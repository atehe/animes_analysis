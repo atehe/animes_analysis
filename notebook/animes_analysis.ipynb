{
 "cells": [
  {
   "cell_type": "markdown",
   "id": "fdb553bf",
   "metadata": {},
   "source": [
    " >**DISCLAIMER:**  This is a fun, personal project and might contain some unprofessional terms and language."
   ]
  },
  {
   "cell_type": "markdown",
   "id": "64733a5a",
   "metadata": {},
   "source": [
    "###  ***HELLO OTAKUS***\n",
    "Even if you're not an otaku (by otaku i mean anime fan) or 'dont watch animes' this should be fun. I'm sure one of these names should sounds familiar:\n",
    "- Naruto\n",
    "- Dragon ball\n",
    "- one piece\n",
    "- hunter x hunter\n",
    "- bakugo\n",
    "- avatar\n",
    "\n",
    "if none... Well i really dont know what to say.. May the good Lord bless us.\n",
    "\n",
    "🤣🤣  I said ```if None...``` That'll never run.\n",
    "\n"
   ]
  },
  {
   "cell_type": "code",
   "execution_count": null,
   "id": "a848baa7",
   "metadata": {},
   "outputs": [],
   "source": []
  }
 ],
 "metadata": {
  "kernelspec": {
   "display_name": "Python 3 (ipykernel)",
   "language": "python",
   "name": "python3"
  },
  "language_info": {
   "codemirror_mode": {
    "name": "ipython",
    "version": 3
   },
   "file_extension": ".py",
   "mimetype": "text/x-python",
   "name": "python",
   "nbconvert_exporter": "python",
   "pygments_lexer": "ipython3",
   "version": "3.10.0"
  }
 },
 "nbformat": 4,
 "nbformat_minor": 5
}
